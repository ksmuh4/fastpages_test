{
  "nbformat": 4,
  "nbformat_minor": 0,
  "metadata": {
    "colab": {
      "name": "210525-f스트링,할당연산자.ipynb",
      "provenance": [],
      "collapsed_sections": [],
      "authorship_tag": "ABX9TyPTwi0PlefeLLdl/asdePOH",
      "include_colab_link": true
    },
    "kernelspec": {
      "name": "python3",
      "display_name": "Python 3"
    },
    "language_info": {
      "name": "python"
    }
  },
  "cells": [
    {
      "cell_type": "markdown",
      "metadata": {
        "id": "view-in-github",
        "colab_type": "text"
      },
      "source": [
        "<a href=\"https://colab.research.google.com/github/ksmuh4/fastpages_test/blob/master/_notebooks/f%EC%8A%A4%ED%8A%B8%EB%A7%81%2C%ED%95%A0%EB%8B%B9%EC%97%B0%EC%82%B0%EC%9E%90.ipynb\" target=\"_parent\"><img src=\"https://colab.research.google.com/assets/colab-badge.svg\" alt=\"Open In Colab\"/></a>"
      ]
    },
    {
      "cell_type": "code",
      "metadata": {
        "id": "EbGgqvAyznEk"
      },
      "source": [
        "#list\n",
        "n = [1,2,3]\n",
        "print(n)\n",
        "print(type(n)) # 데이터 type\n",
        "print(id(n)) # 데이터 주소\n",
        "\n",
        "#tuple: 수정 안되는 list\n",
        "n = (1,2,3)\n",
        "print(n)\n",
        "print(type(n)) # 데이터 type\n",
        "print(id(n)) # 데이터 주소\n",
        "\n",
        "#dict: key-value 매칭(key값으로 value 출력), key는 중복X\n",
        "n = {'name':'jane','age':15}\n",
        "print(n)\n",
        "print(type(n))\n",
        "print(id(n))\n",
        "\n",
        "#set: 중복X, 순서X\n",
        "n = {'name','sign'}\n",
        "print(n)\n",
        "print(type(n)) # 데이터 type\n",
        "print(id(n)) # 데이터 주소"
      ],
      "execution_count": null,
      "outputs": []
    },
    {
      "cell_type": "code",
      "metadata": {
        "id": "l-8HsQmO2CXT"
      },
      "source": [
        "#큰 따옴표를 넣고 싶으면 작은 따옴표 안에\n",
        "a='시간은 \"금\"이다.'\n",
        "print(a)\n",
        "\n",
        "#작은 따옴표를 넣고 싶으면 큰 따옴표 안에\n",
        "b=\"시간은 '금'이다.\"\n",
        "print(b)\n",
        "\n",
        "#여러줄은 '''안에\n",
        "c = '''Hello, world!\n",
        "안녕하세요.\n",
        "python입니다.'''\n",
        "print(c)\n",
        "\n",
        "#quiz\n",
        "a=\"'낮말'은 새가 듣고 '밤말'은 쥐가 듣는다.\"\n",
        "print(a)\n",
        "\n",
        "a='\"시간은 금\"이라는 말이 있다.'\n",
        "print(a)"
      ],
      "execution_count": null,
      "outputs": []
    },
    {
      "cell_type": "code",
      "metadata": {
        "id": "8O5NtOPo2vUD"
      },
      "source": [
        "#boolean형\n",
        "a = 1>2\n",
        "print(a)\n",
        "\n",
        "a = 1<2\n",
        "print(a)"
      ],
      "execution_count": null,
      "outputs": []
    },
    {
      "cell_type": "code",
      "metadata": {
        "id": "q7KgzPr53AR_"
      },
      "source": [
        "#숫자와 문자열\n",
        "a,b = 10,20\n",
        "print(a+b)\n",
        "\n",
        "##따옴표 안의 숫자는 문자로 인식 (문자열 연산)\n",
        "a,b = \"10\", \"20\"\n",
        "print(a+b)\n",
        "\n",
        "#숫자와 문자열은 연산 불가능\n",
        "a,b = \"10\", 20\n",
        "print(a+b)"
      ],
      "execution_count": null,
      "outputs": []
    },
    {
      "cell_type": "code",
      "metadata": {
        "id": "4QTPeC-E7DM2"
      },
      "source": [
        "#형 변환 함수\n",
        "a, b = 10, \"20\"\n",
        "print(a+int(b))\n",
        "\n",
        "a, b = 10, 20\n",
        "print(str(a)+str(b))\n",
        "\n",
        "a, b = 10, 20\n",
        "print(float(a)+float(b))"
      ],
      "execution_count": null,
      "outputs": []
    },
    {
      "cell_type": "code",
      "metadata": {
        "id": "3zlJuzqi8ktR"
      },
      "source": [
        "#변수에 값 입력받기: input\n",
        "#input으로 입력받는 값은 문자열\n",
        "name = input('이름을 입력하세요: ')\n",
        "print(name, '님 안녕하세요?')\n",
        "\n",
        "num = input('번호를 입력하세요: ')\n",
        "print(str(num), '번 안녕하세요?', type(num) )"
      ],
      "execution_count": null,
      "outputs": []
    },
    {
      "cell_type": "code",
      "metadata": {
        "id": "Se8KFtbk9Wk7"
      },
      "source": [
        "#출력 print\n",
        "\n",
        "print(10)\n",
        "print(type(10))\n",
        "print(type(\"10\"))\n",
        "\n",
        "print(2>3)"
      ],
      "execution_count": null,
      "outputs": []
    },
    {
      "cell_type": "code",
      "metadata": {
        "colab": {
          "base_uri": "https://localhost:8080/"
        },
        "id": "8gD_uEpwEBua",
        "outputId": "fdcdf038-2203-4af9-a3c7-105b6d88b818"
      },
      "source": [
        "# ,로 구분하여 2개 이상 값을 연결하여 출력(인수 사이에 공백 추가)\n",
        "age = 10\n",
        "print(\"나는\", age, \"살입니다\")\n",
        "\n",
        "# 덧셈 연산자는 자동공백 x\n",
        "age = \"음..\"\n",
        "print(\"나는\"+age+ \"모르겠다\")\n",
        "\n",
        "# 덧셈 연산자로 연결할 때 사용하는 데이터형은 모두 문자열\n",
        "english = 80\n",
        "#error! result = '영어점수: ' + english + '점'\n",
        "result = '영어점수: ' + str(english) + '점'\n",
        "print(result)\n",
        "\n",
        "# ,는 자동공백 O\n",
        "age = \"음..\"\n",
        "print(\"나는\" ,age, \"모르겠다\")"
      ],
      "execution_count": null,
      "outputs": [
        {
          "output_type": "stream",
          "text": [
            "나는 10 살입니다\n",
            "나는음..모르겠다\n",
            "영어점수: 80점\n",
            "나는 음.. 모르겠다\n"
          ],
          "name": "stdout"
        }
      ]
    },
    {
      "cell_type": "code",
      "metadata": {
        "id": "NQcQQCaA-Cif"
      },
      "source": [
        "#출력 f스트링\n",
        "##문장 사이에 변수값을 출력할 때 편리\n",
        "name = input('이름을 입력하세요: ')\n",
        "print(f'{name}님 안녕하세요?')"
      ],
      "execution_count": null,
      "outputs": []
    },
    {
      "cell_type": "code",
      "metadata": {
        "id": "elx3v1IB-jUC"
      },
      "source": [
        "print('두 수를 입력받아 더하는 프로그램입니다.')\n",
        "#1\n",
        "a = input(\"첫번째 숫자를 입력하세요 :\")\n",
        "b = input(\"두번째 숫자를 입력하세요 :\")\n",
        "#print(int(f'{a}) + int(f'{b}))\n",
        "print(f'{a}+{b} = {int(a)+int(b)}')"
      ],
      "execution_count": null,
      "outputs": []
    },
    {
      "cell_type": "code",
      "metadata": {
        "colab": {
          "base_uri": "https://localhost:8080/"
        },
        "id": "E5Z-QH2hAke4",
        "outputId": "f726bd1d-0735-40b7-91fc-9d5deb8a9efa"
      },
      "source": [
        "#2\n",
        "a = input(\"첫번째 숫자를 입력하세요 :\")\n",
        "b = input(\"두번째 숫자를 입력하세요 :\")\n",
        "a = int(a)\n",
        "b = int(b)\n",
        "print(f'{a}+{b}=', a+b)"
      ],
      "execution_count": null,
      "outputs": [
        {
          "output_type": "stream",
          "text": [
            "첫번째 숫자를 입력하세요 :10\n",
            "두번째 숫자를 입력하세요 :20\n",
            "10+20= 30\n"
          ],
          "name": "stdout"
        }
      ]
    },
    {
      "cell_type": "code",
      "metadata": {
        "id": "gI_YeC__BEnr"
      },
      "source": [
        "#거듭제곱\n",
        "a, b = 4, 2\n",
        "print(4**2)\n",
        "\n",
        "#나누기 몫\n",
        "a, b = 10, 2\n",
        "print(a//b)\n",
        "\n",
        "#나머지\n",
        "a, b = 10, 2\n",
        "print(a%b)\n",
        "\n",
        "##파이썬은 산술연산에서 중괄호, 대괄호 X / 소괄호만 사용"
      ],
      "execution_count": null,
      "outputs": []
    },
    {
      "cell_type": "code",
      "metadata": {
        "id": "ZISKzFwdBrL0"
      },
      "source": [
        "#quiz\n",
        "#섭씨온도: (화씨온도-32)*5/9\n",
        "a = input(\"화씨온도: \")\n",
        "print(\"섭씨온도: \", (int(a)-32)*5/9)\n",
        "\n",
        "#c=(f-32)*5/9"
      ],
      "execution_count": null,
      "outputs": []
    },
    {
      "cell_type": "code",
      "metadata": {
        "id": "cN2UHVAXE9Ln"
      },
      "source": [
        "#quiz\n",
        "#삼각형 넓이 = (밑변*높이)/2\n",
        "a = input(\"밑변:\")\n",
        "b = input(\"높이:\")\n",
        "\n",
        "a = float(a)\n",
        "b = float(b)\n",
        "c = print(\"삼각형의 넓이:\" , (a*b)/2)\n",
        "\n",
        "#quiz-다른풀이1\n",
        "a = int(input(\"밑변 : \"))\n",
        "b = int(input(\"높이 : \"))\n",
        "print(f\"삼각형의 넓이 : {a*b/2}\")\n",
        "\n",
        "#quiz-다른풀이2\n",
        "print(f'삼각형의 넓이: {(float(input(\"밑변: \"))*float(input(\"높이: \")))/2}')\n"
      ],
      "execution_count": null,
      "outputs": []
    },
    {
      "cell_type": "code",
      "metadata": {
        "id": "80f9hBc1Gu9v"
      },
      "source": [
        "#quiz\n",
        "#원의둘레: 3.14*2*r\n",
        "#원의넓이: 3.14*(r**2)\n",
        "\n",
        "a = input(\"원의 반지름 :\")\n",
        "print(f'원의 둘레: ', 3.14*2*float(a))\n",
        "print(f'원의 넓이: ', 3.14*(float(a)**2))\n",
        "\n",
        "#quiz-다른풀이1\n",
        "a = float(input(\"원의 반지름: \"))\n",
        "print(f'원의 둘레: ', 3.14*2*a)\n",
        "print(f'원의 넓이: ', 3.14*(a**2))\n",
        "\n",
        "#quiz-다른풀이2\n",
        "r = float(input(\"원의 반지름 : \"))\n",
        "pi = 3.14\n",
        "print(f'원의 둘레 : {2*pi*r}, 원의넓이 : {pi*r**2}')"
      ],
      "execution_count": null,
      "outputs": []
    },
    {
      "cell_type": "code",
      "metadata": {
        "id": "59POeVkALobu"
      },
      "source": [
        "#할당 연산자\n",
        "\n",
        "#여러개 변수에 하나의 값 할당\n",
        "a=b=c=1\n",
        "print(a,b,c)\n",
        "\n",
        "#여러개 변수에 각각 다른 값 할당\n",
        "a,b,c = 1,2,3\n",
        "print(a,b,c)"
      ],
      "execution_count": null,
      "outputs": []
    },
    {
      "cell_type": "code",
      "metadata": {
        "id": "zSS4AV5UM2vu"
      },
      "source": [
        "#복합할당연산자\n",
        "x = 10\n",
        "x += 20\n",
        "print(x)\n",
        "\n",
        "x = 3\n",
        "y = 5\n",
        "x *= x+y\n",
        "print(x)\n",
        "\n",
        "a = 1\n",
        "a += 11\n",
        "print(a) #12\n",
        "b = 7\n",
        "a *= b + a\n",
        "print(a)\n",
        "\n",
        "#다시 설명\n",
        "num2 = 100\n",
        "num3 = 200\n",
        "\n",
        "num2 += num3\n",
        "num2 = num2 + num3"
      ],
      "execution_count": null,
      "outputs": []
    },
    {
      "cell_type": "code",
      "metadata": {
        "id": "46xYzUDxO7w6"
      },
      "source": [
        "#문자열 반복\n",
        "s = \"ha\"\n",
        "print(s*5)\n",
        "\n",
        "#문자열 연결\n",
        "name = input(\"이름을 입력하세요: \")\n",
        "greet = name + \"님, 안녕하세요\"\n",
        "print(greet)"
      ],
      "execution_count": null,
      "outputs": []
    },
    {
      "cell_type": "code",
      "metadata": {
        "id": "2TdI1w71WrpX"
      },
      "source": [
        "#quiz: 로봇기자\n",
        "경기장 = input(\"경기장: \")\n",
        "이긴팀 = input(\"이긴팀: \")\n",
        "진팀 = input(\"진팀: \")\n",
        "vip = input(\"vip: \")\n",
        "스코어 = input(\"스코어: \")\n",
        "print('-'*50)\n",
        "print(f'''오늘 {경기장}에서 경기가 열렸습니다. \n",
        "{이긴팀}와(과) {진팀}은(는) 치열한 공방전을 펼쳤습니다. \n",
        "{vip}이(가) 맹활약을 펼쳤습니다. \n",
        "결국 {이긴팀}이(가) {진팀}을(를) {스코어}로 이겼습니다.''')"
      ],
      "execution_count": null,
      "outputs": []
    },
    {
      "cell_type": "code",
      "metadata": {
        "id": "ZGtcjPIHZydy"
      },
      "source": [
        "#quiz: 광고\n",
        "loc = input(\"지역: \")\n",
        "mm = input(\"매물종류: \")\n",
        "p = input(\"평수: \")\n",
        "n = input(\"방 개수: \")\n",
        "price = input(\"가격: \")\n",
        "print('-'*50)\n",
        "print(f'''{loc}에 위치한 아주 좋은 {mm}이(가) 매물로 나왔습니다.\n",
        "이 {mm}는 {p}평으로 {n}개의 방을 가지고 있습니다.\n",
        "가격은 {price}만원 입니다.''')"
      ],
      "execution_count": null,
      "outputs": []
    },
    {
      "cell_type": "code",
      "metadata": {
        "id": "Z1BLgZHHddv1"
      },
      "source": [
        "#quiz: 성적계산프로그램\n",
        "name = input(\"이름을 입력하세요: \")\n",
        "kor = int(input(\"국어성적을 입력하세요: \"))\n",
        "eng = int(input(\"영어성적을 입력하세요: \"))\n",
        "mat = int(input(\"수학성적을 입력하세요: \"))\n",
        "print('-'*50)\n",
        "print('평균성적은', (kor+eng+mat)/3, '점입니다.')\n",
        "#print(f\"이름은 {name} 평균성적은 {(kor+eng+mat)/3}점 입니다.\")"
      ],
      "execution_count": null,
      "outputs": []
    },
    {
      "cell_type": "code",
      "metadata": {
        "id": "NpgXyzJ7klSf"
      },
      "source": [
        "#quiz: 커피가게 매출 계산\n",
        "#아메리카노 2, 카페라떼 3, 카푸치노 3.5\n",
        "\n",
        "am = 2000 * int(input(\"아메리카노 판매 갯수: \"))\n",
        "cl = 3000 * int(input(\"카페라떼 판매 갯수: \"))\n",
        "cc = 3500 * int(input(\"카푸치노 판매 갯수: \"))\n",
        "print(f'총 매출은 {am+cl+cc}원입니다.')\n",
        "\n",
        "#quiz-다른풀이\n",
        "ame = int(input('아메리카노 판매 갯수: '))\n",
        "latte = int(input('카페라떼 판매 갯수: '))\n",
        "chino = int(input('카푸치노 판매 갯수: '))\n",
        "price = (ame*2000) + (latte*3000) + (chino*3500)\n",
        "print('총 매출은 ', price, '원입니다.')"
      ],
      "execution_count": null,
      "outputs": []
    },
    {
      "cell_type": "code",
      "metadata": {
        "id": "shTriYT9nolb"
      },
      "source": [
        "print('셀 병합 \\n \\t \\'shift key\\'를 누른 후 \\n \\t \\t병합을 원하는 셀들을 다중선택 후 shift+M')"
      ],
      "execution_count": null,
      "outputs": []
    },
    {
      "cell_type": "code",
      "metadata": {
        "id": "h2CKB1Nfo-FE"
      },
      "source": [
        "#join: 문자열을 원하는 글자로 더함\n",
        "print('-'.join(\"Hello World\"))\n",
        "\n",
        "#split: 문자열을 원하는 글자로 슬라이싱. 리스트로 출력\n",
        "print('Welcome to python'.split(' '))"
      ],
      "execution_count": null,
      "outputs": []
    },
    {
      "cell_type": "code",
      "metadata": {
        "id": "Gv6QWy-6plNj"
      },
      "source": [
        "a=8==12\n",
        "print(a,type(a))\n",
        "\n",
        "#대소문자 구별\n",
        "b='apple'=='APPLE'\n",
        "print(b,type(b))\n",
        "\n",
        "c=8!=12\n",
        "print(c,type(c))"
      ],
      "execution_count": null,
      "outputs": []
    }
  ]
}